{
  "nbformat": 4,
  "nbformat_minor": 0,
  "metadata": {
    "colab": {
      "provenance": [],
      "authorship_tag": "ABX9TyPd5518be+6oDzmIvyuBU9/",
      "include_colab_link": true
    },
    "kernelspec": {
      "name": "python3",
      "display_name": "Python 3"
    },
    "language_info": {
      "name": "python"
    }
  },
  "cells": [
    {
      "cell_type": "markdown",
      "metadata": {
        "id": "view-in-github",
        "colab_type": "text"
      },
      "source": [
        "<a href=\"https://colab.research.google.com/github/shawnsam1342/Basic_Python_for_Machine_Learning/blob/main/Python_Code_Examples.ipynb\" target=\"_parent\"><img src=\"https://colab.research.google.com/assets/colab-badge.svg\" alt=\"Open In Colab\"/></a>"
      ]
    },
    {
      "cell_type": "markdown",
      "source": [
        "## Python Programs\n"
      ],
      "metadata": {
        "id": "vPgFf-BdAU4U"
      }
    },
    {
      "cell_type": "markdown",
      "source": [
        "## 1.Program to find largest of three numbers\n",
        "\n",
        "- **Step 1:** Read three numbers\n",
        "- **Step 2:** Compare & find the largest number\n",
        "- **Step 3:** Display largest number"
      ],
      "metadata": {
        "id": "F0gVpSeSBSdk"
      }
    },
    {
      "cell_type": "code",
      "source": [
        "\"\"\"\n",
        "# Python program to find the largest number among the three input numbers\n",
        "\"\"\"\n",
        "num1 = 40\n",
        "num2 = 24\n",
        "num3 = 32\n",
        "#uncomment following lines to take three numbers from user\n",
        "num1 = float(input(\"Enter first number: \"))\n",
        "num2 = float(input(\"Enter second number: \"))\n",
        "num3 = float(input(\"Enter third number: \"))\n",
        "if (num1 >= num2) and (num1 >= num3):\n",
        "   largest = num1\n",
        "elif (num2 >= num1) and (num2 >= num3):\n",
        "   largest = num2\n",
        "else:\n",
        "   largest = num3\n",
        "print(\"The largest number is\", largest)"
      ],
      "metadata": {
        "colab": {
          "base_uri": "https://localhost:8080/"
        },
        "id": "hoNfhUDfAxtm",
        "outputId": "1cdbc33d-d884-422d-d2fb-74dd105be8d8"
      },
      "execution_count": null,
      "outputs": [
        {
          "output_type": "stream",
          "name": "stdout",
          "text": [
            "Enter first number: 12\n",
            "Enter second number: 20\n",
            "Enter third number: 9\n",
            "The largest number is 20.0\n"
          ]
        }
      ]
    },
    {
      "cell_type": "markdown",
      "source": [
        "## 2. Program to print Multiplication table\n",
        "- **Step 1:** Read a number whose multiplication table is to be displayed\n",
        "- **Step 2:** Repeat the following from i=1 to i=10\n",
        "- **Step 3:** Multiply & Display Product"
      ],
      "metadata": {
        "id": "BVfA_WYRCUjq"
      }
    },
    {
      "cell_type": "code",
      "source": [
        "# Multiplication table (from 1 to 10) in Python\n",
        "\n",
        "num = 12\n",
        "\n",
        "# To take input from the user\n",
        "# num = int(input(\"Display multiplication table of? \"))\n",
        "\n",
        "# Iterate 10 times from i = 1 to 10\n",
        "for i in range(1, 11):\n",
        "   print(num, 'x', i, '=', num*i)"
      ],
      "metadata": {
        "colab": {
          "base_uri": "https://localhost:8080/"
        },
        "id": "0Kbvs1bpDk_s",
        "outputId": "c9be743e-4660-49f1-ebcf-e367ac739803"
      },
      "execution_count": null,
      "outputs": [
        {
          "output_type": "stream",
          "name": "stdout",
          "text": [
            "12 x 1 = 12\n",
            "12 x 2 = 24\n",
            "12 x 3 = 36\n",
            "12 x 4 = 48\n",
            "12 x 5 = 60\n",
            "12 x 6 = 72\n",
            "12 x 7 = 84\n",
            "12 x 8 = 96\n",
            "12 x 9 = 108\n",
            "12 x 10 = 120\n"
          ]
        }
      ]
    },
    {
      "cell_type": "markdown",
      "source": [
        "## 3. Program to read a number less than 12 & display its multiplication table\n",
        "- **Step 1:** Read a number less than 12 \n",
        "- **Step 2:** Repeat the following from i=1 to i=10\n",
        "- **Step 3:** Multiply & Display Product"
      ],
      "metadata": {
        "id": "VRp2cT02DqmD"
      }
    },
    {
      "cell_type": "code",
      "source": [
        "# To take input from the user\n",
        "num = int(input(\"Display multiplication table of? \"))\n",
        "\n",
        "# Iterate 10 times from i = 1 to 10\n",
        "for i in range(1, 11):\n",
        "   print(i, 'x', num, '=', num*i)"
      ],
      "metadata": {
        "colab": {
          "base_uri": "https://localhost:8080/"
        },
        "id": "Eq-pp1QYEtZk",
        "outputId": "d244b2d5-f2a7-490c-d5e0-982ebeb940e2"
      },
      "execution_count": null,
      "outputs": [
        {
          "output_type": "stream",
          "name": "stdout",
          "text": [
            "Display multiplication table of? 8\n",
            "1 x 8 = 8\n",
            "2 x 8 = 16\n",
            "3 x 8 = 24\n",
            "4 x 8 = 32\n",
            "5 x 8 = 40\n",
            "6 x 8 = 48\n",
            "7 x 8 = 56\n",
            "8 x 8 = 64\n",
            "9 x 8 = 72\n",
            "10 x 8 = 80\n"
          ]
        }
      ]
    },
    {
      "cell_type": "markdown",
      "source": [
        "## 4. Program to Check for Sign of a Number\n",
        "- **Step 1:** Read a Number & store it in num\n",
        "- **Step 2:** if num > 0, display Positive Number\n",
        "- **Step 3:** if num = 0,display Zero\n",
        "- **Step 4:** Otherwise display Negative Number"
      ],
      "metadata": {
        "id": "NyRi9UpaFKSb"
      }
    },
    {
      "cell_type": "code",
      "source": [
        "num = float(input(\"Enter a number: \"))\n",
        "if num > 0:\n",
        "   print(\"Positive number\")\n",
        "elif num == 0:\n",
        "   print(\"Zero\")\n",
        "else:\n",
        "   print(\"Negative number\")"
      ],
      "metadata": {
        "colab": {
          "base_uri": "https://localhost:8080/"
        },
        "id": "PkVzwhijG4m8",
        "outputId": "7adfe01b-870e-44fe-ae53-e7527c62b9a0"
      },
      "execution_count": null,
      "outputs": [
        {
          "output_type": "stream",
          "name": "stdout",
          "text": [
            "Enter a number: -9\n",
            "Negative number\n"
          ]
        }
      ]
    },
    {
      "cell_type": "markdown",
      "source": [
        "## 5. Program to find the Surface Area & Volume of a Cylinder\n",
        "- **Step 1:** Assign 3.14 to pi\n",
        "- **Step 2:** Read radius & height as 2.6 & 1.6 respectively\n",
        "- **Step 3:** Calculate Surface Area as SA = 2*pi*r*(r+h)\n",
        "- **Step 4:** Calculate Volume as V = pi*r**2*h\n",
        "- **Step 5:** Display Surface Area & Volume"
      ],
      "metadata": {
        "id": "5q7WomohG9WU"
      }
    },
    {
      "cell_type": "code",
      "source": [
        "#from math import pi\n",
        "pi=3.14\n",
        "r=2.6\n",
        "h=1.6\n",
        "SA=2*pi*r*(r+h)\n",
        "V=pi*r**2*h\n",
        "print((\"Surface Area is {} and Volume is {}\").format(SA,V))"
      ],
      "metadata": {
        "colab": {
          "base_uri": "https://localhost:8080/"
        },
        "id": "8dnsCJUhIGJ8",
        "outputId": "e90c0214-e141-45be-da27-7349cade678c"
      },
      "execution_count": null,
      "outputs": [
        {
          "output_type": "stream",
          "name": "stdout",
          "text": [
            "Surface Area is 68.57760000000002 and Volume is 33.96224\n"
          ]
        }
      ]
    },
    {
      "cell_type": "markdown",
      "source": [
        "## 6. Program to find Area of Circle\n",
        "- **Step 1:** Read radius r from user\n",
        "- **Step 2:** Calculate Area as pi*r^2\n",
        "- **Step 3:** Display Area"
      ],
      "metadata": {
        "id": "07Qi5Tu5ILAr"
      }
    },
    {
      "cell_type": "code",
      "source": [
        "\"\"\"\n",
        "program to find area of a circle\n",
        "\"\"\"\n",
        "r=float(input(\"Enter the radius: \"))\n",
        "print(\"Area: \",pi*r**2)"
      ],
      "metadata": {
        "colab": {
          "base_uri": "https://localhost:8080/"
        },
        "id": "oq1X8EOZJYOL",
        "outputId": "777695c9-fb61-4567-cec5-c74a6d22e242"
      },
      "execution_count": null,
      "outputs": [
        {
          "output_type": "stream",
          "name": "stdout",
          "text": [
            "Enter the radius: 10\n",
            "Area:  314.0\n"
          ]
        }
      ]
    },
    {
      "cell_type": "markdown",
      "source": [
        "## 7. Program to find Area of a Rectangle\n",
        "- **Step 1:** Read length as l & breadth as b\n",
        "- **Step 2:** Calculate Area = l*b\n",
        "- **Step 3:** Display Area"
      ],
      "metadata": {
        "id": "NV_eaQ38JevL"
      }
    },
    {
      "cell_type": "code",
      "source": [
        "l=2;b=5.2\n",
        "Area=l*b\n",
        "print(\"Area of the Rectangle is : \",Area)"
      ],
      "metadata": {
        "colab": {
          "base_uri": "https://localhost:8080/"
        },
        "id": "4OvVYpAiKFTC",
        "outputId": "844393e2-20e9-405d-9d75-de02101a50d1"
      },
      "execution_count": null,
      "outputs": [
        {
          "output_type": "stream",
          "name": "stdout",
          "text": [
            "Area of the Rectangle is :  10.4\n"
          ]
        }
      ]
    },
    {
      "cell_type": "markdown",
      "source": [
        "## 8. Program to Replace a word with another word in a Sentence\n",
        "- **Step 1:** Assign sentence to text\n",
        "- **Step 2:** replaced_text = text.replace('hand','foot')\n",
        "- **Step 3:** Display replaced_text"
      ],
      "metadata": {
        "id": "SEig7RThKJvD"
      }
    },
    {
      "cell_type": "code",
      "source": [
        "# program to replace a word by another word in a sentence\n",
        "\n",
        "text = 'hand ball is a hand full of hands'\n",
        "\n",
        "# replace 'hand' with 'foot'\n",
        "replaced_text = text.replace('hand ', 'foot ')\n",
        "print(replaced_text)"
      ],
      "metadata": {
        "colab": {
          "base_uri": "https://localhost:8080/"
        },
        "id": "--Ao5hoSLt0k",
        "outputId": "f66e92b3-6358-4e3f-8160-f74d1e6296b9"
      },
      "execution_count": null,
      "outputs": [
        {
          "output_type": "stream",
          "name": "stdout",
          "text": [
            "foot ball is a foot full of hands\n"
          ]
        }
      ]
    }
  ]
}